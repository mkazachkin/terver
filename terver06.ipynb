{
 "cells": [
  {
   "cell_type": "code",
   "execution_count": 1,
   "metadata": {},
   "outputs": [],
   "source": [
    "import numpy as np\n",
    "import scipy.stats as st"
   ]
  },
  {
   "attachments": {},
   "cell_type": "markdown",
   "metadata": {},
   "source": [
    "*Задача 1.*\n",
    "\n",
    "Известно, что генеральная совокупность распределена нормально со средним квадратическим отклонением, равным 16. Найти доверительный интервал для оценки математического ожидания $\\alpha$ с надежностью 0.95, если выборочная средняя M = 80, а объем выборки n = 256."
   ]
  },
  {
   "attachments": {},
   "cell_type": "markdown",
   "metadata": {},
   "source": [
    "Доверительный интервал определяется выражением $\\overline{X}\\pm Z_ {\\frac{\\alpha}{2}} \\cdot {\\frac{\\sigma}{\\sqrt{n}}}$ .\n",
    "\n",
    "Известно, что:\n",
    "* $\\overline{X} = 80 $ ;\n",
    "* $\\sigma = 16 $ ;\n",
    "* $\\alpha = 1 - 0.95 = 0.05$ ;\n",
    "* $\\frac{\\alpha} {2} = 0.025$ ; \n",
    "* $n = 256$ ;\n",
    "\n",
    "Найдем критическое значение Z, т. к. у нас известно значение $\\sigma$ и генеральная совокупность распределена нормально. Табличное значение $Z_{\\frac{\\alpha} {2} = 0.0250} \\approx 1.9600 $ , но можно воспользоваться функцией norm.ppf (Percent Point Function) библиотеки Python scipy.stats. Рассчитаем:"
   ]
  },
  {
   "cell_type": "code",
   "execution_count": 2,
   "metadata": {},
   "outputs": [
    {
     "name": "stdout",
     "output_type": "stream",
     "text": [
      "Ответ: Доверительный интервал - [78.04003601545995, 81.95996398454005]\n"
     ]
    }
   ],
   "source": [
    "x_mean = 80.0\n",
    "sigma = 16.0\n",
    "alpha = 1 - 0.95\n",
    "zscore = st.norm.ppf(1 - alpha/2)\n",
    "n = 256\n",
    "delta = zscore * sigma / np.sqrt(n)\n",
    "print (f'Ответ: Доверительный интервал - [{x_mean - delta}, {x_mean + delta}]')"
   ]
  },
  {
   "attachments": {},
   "cell_type": "markdown",
   "metadata": {},
   "source": [
    "*Задача 2.*\n",
    "\n",
    "В результате 10 независимых измерений некоторой величины X, выполненных с одинаковой точностью, получены опытные данные: 6.9, 6.1, 6.2, 6.8, 7.5, 6.3, 6.4, 6.9, 6.7, 6.1 Предполагая, что результаты измерений подчинены нормальному закону распределения вероятностей, оценить истинное значение величины X при помощи доверительного интервала, покрывающего это значение с доверительной вероятностью 0,95."
   ]
  },
  {
   "attachments": {},
   "cell_type": "markdown",
   "metadata": {},
   "source": [
    "Средневадратичное отклонение генеральной выборки $ \\sigma $ неизвестно. Поэтому, доверительный интевал      оценивается с помощю критерия Стьюдента. В этом случае доверительный интервал определяется выражением $\\overline{X}\\pm t_ {\\frac{\\alpha}{2}} \\cdot {\\frac{\\sigma}{\\sqrt{n}}}$ , а $ \\sigma $ и $\\overline{X} $ рассчитвается для имеющейся выборки. Для рассчета $t_{\\frac{\\alpha}{2}}$ также воспользуемся функциями Python. Производим рассчет:"
   ]
  },
  {
   "cell_type": "code",
   "execution_count": 3,
   "metadata": {},
   "outputs": [
    {
     "name": "stdout",
     "output_type": "stream",
     "text": [
      "Ответ: Доверительный интервал - [6.267515851415713, 6.912484148584288]\n"
     ]
    }
   ],
   "source": [
    "\n",
    "x = [6.9, 6.1, 6.2, 6.8, 7.5, 6.3, 6.4, 6.9, 6.7, 6.1]\n",
    "n = len(x) # Объем выборки\n",
    "k = n - 1 # Количество степеней свободы\n",
    "x_mean = np.mean(x)\n",
    "sigma = np.sqrt(np.var(x, ddof=1)) # Квадратный корень из несмещенной дисперсии. Так в лекции\n",
    "alpha = 1 - 0.95\n",
    "tscore = st.t.ppf(1 - alpha/2, k)\n",
    "delta = tscore * sigma / np.sqrt(n)\n",
    "print (f'Ответ: Доверительный интервал - [{x_mean - delta}, {x_mean + delta}]')"
   ]
  },
  {
   "attachments": {},
   "cell_type": "markdown",
   "metadata": {},
   "source": [
    "*Задача 3.*\n",
    "\n",
    "Рост дочерей  175, 167, 154, 174, 178, 148, 160, 167, 169, 170\n",
    "\n",
    "Рост матерей  178, 165, 165, 173, 168, 155, 160, 164, 178, 175\n",
    "\n",
    "Используя эти данные построить 95% доверительный интервал для разности среднего роста родителей и детей."
   ]
  },
  {
   "cell_type": "code",
   "execution_count": 4,
   "metadata": {},
   "outputs": [
    {
     "name": "stdout",
     "output_type": "stream",
     "text": [
      "Ответ: Доверительный интервал - [-6.268418034506846, 10.068418034506857]\n"
     ]
    }
   ],
   "source": [
    "x = [[175, 167, 154, 174, 178, 148, 160, 167, 169, 170],\n",
    "     [178, 165, 165, 173, 168, 155, 160, 164, 178, 175]]\n",
    "\n",
    "n = []\n",
    "k = []\n",
    "d = []\n",
    "x_mean = []\n",
    "\n",
    "for i in range (2):\n",
    "    n.append (len(x[i]))\n",
    "    k.append(n[i] - 1)\n",
    "    d.append(np.var(x[i], ddof=1))\n",
    "    x_mean.append(np.mean(x[i]))\n",
    "\n",
    "diff = abs(x_mean[0] - x_mean[1])\n",
    "d0 = np.mean (d)\n",
    "se = np.sqrt(d[0]/n[0]+ d[1]/n[1])\n",
    "\n",
    "alpha = 1 - 0.95\n",
    "tscore = st.t.ppf(1 - alpha/2, k[0] + k[1])\n",
    "delta = tscore * se\n",
    "\n",
    "print (f'Ответ: Доверительный интервал - [{diff - delta}, {diff + delta}]')"
   ]
  }
 ],
 "metadata": {
  "kernelspec": {
   "display_name": "Python 3",
   "language": "python",
   "name": "python3"
  },
  "language_info": {
   "codemirror_mode": {
    "name": "ipython",
    "version": 3
   },
   "file_extension": ".py",
   "mimetype": "text/x-python",
   "name": "python",
   "nbconvert_exporter": "python",
   "pygments_lexer": "ipython3",
   "version": "3.9.16"
  },
  "orig_nbformat": 4
 },
 "nbformat": 4,
 "nbformat_minor": 2
}
