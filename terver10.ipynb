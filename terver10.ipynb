{
 "cells": [
  {
   "cell_type": "code",
   "execution_count": 3,
   "metadata": {},
   "outputs": [],
   "source": [
    "import numpy as np\n",
    "from scipy import stats\n",
    "import matplotlib.pyplot as plt"
   ]
  },
  {
   "attachments": {},
   "cell_type": "markdown",
   "metadata": {},
   "source": [
    "# Задача 1\n",
    "**Провести дисперсионный анализ для определения того, есть ли различия среднего роста среди взрослых футболистов, хоккеистов и штангистов. Даны значения роста в трех группах случайно выбранных спортсменов: Футболисты: 173, 175, 180, 178, 177, 185, 183, 182. Хоккеисты: 177, 179, 180, 188, 177, 172, 171, 184, 180. Штангисты: 172, 173, 169, 177, 166, 180, 178, 177, 172, 166, 170.**"
   ]
  },
  {
   "attachments": {},
   "cell_type": "markdown",
   "metadata": {},
   "source": [
    "Рост человека в популяции распределяется по нормальному закону, исследуется влияние одного фактора, поэтому для решения задачи применим однофакторный дисперсионый анализ. В качестве качественного показателя выступает вид спорта, в качестве количественного показателя вид — спорта. Количество уровней — 3 ($k=3$). Сформулируем гипотезы:\n",
    "\n",
    "$ H_0: \\mu_1 = \\mu_2 = \\mu_3 \\newline H_1 \\begin{cases} H_{1.1}: \\mu_1 \\neq \\mu_2 \\\\ H_{1.2}: \\mu_1 \\neq \\mu_3 \\\\ H_{1.3}: \\mu_2 \\neq \\mu_3\\end{cases}$\n",
    "\n",
    "При сравнении более двух групп ($k > 2$) сравнение производися с помощью критерия Фишера F, при сравнении двух групп ($k = 2$) используется критерий Стьюдента t. Критерий Фишера вычисляется по формуле:\n",
    "\n",
    "$F_H = \\frac{\\sigma_ф^2}{\\sigma_{ост}^2}$, где ${\\sigma_ф^2}$ — факторная дисперсия (межгрупповая дисперсия, дисперсия средних $\\mu$), а ${\\sigma_{ост}^2}$ — остаточная дисперсия (внутригрупповая, необъясненная дисперсия внутри группы).\n",
    "\n",
    "Факторная дисперсия рассчитывается по формуле ${\\sigma_ф^2} = \\frac{s_ф^2}{k - 1}$, где "
   ]
  },
  {
   "cell_type": "code",
   "execution_count": 4,
   "metadata": {},
   "outputs": [],
   "source": [
    "football_playes = np.array([173, 175, 180, 178, 177, 185, 183, 182])\n",
    "hockey_players = np.array([177, 179, 180, 188, 177, 172, 171, 184, 180])\n",
    "weightlifter =  np.array([172, 173, 169, 177, 166, 180, 178, 177, 172, 166, 170])\n",
    "\n",
    "k = 3\n",
    "\n",
    "n = len (football_playes) + len (hockey_players) + len (weightlifter)\n",
    "\n"
   ]
  }
 ],
 "metadata": {
  "kernelspec": {
   "display_name": "Python 3",
   "language": "python",
   "name": "python3"
  },
  "language_info": {
   "codemirror_mode": {
    "name": "ipython",
    "version": 3
   },
   "file_extension": ".py",
   "mimetype": "text/x-python",
   "name": "python",
   "nbconvert_exporter": "python",
   "pygments_lexer": "ipython3",
   "version": "3.9.16"
  },
  "orig_nbformat": 4
 },
 "nbformat": 4,
 "nbformat_minor": 2
}
