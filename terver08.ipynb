{
 "cells": [
  {
   "cell_type": "code",
   "execution_count": 1,
   "metadata": {},
   "outputs": [],
   "source": [
    "import numpy as np\n",
    "import pandas as pd\n",
    "import scipy.stats as st"
   ]
  },
  {
   "attachments": {},
   "cell_type": "markdown",
   "metadata": {},
   "source": [
    "# Задача 1\n",
    "**Даны значения величины заработной платы заемщиков банка (zp) и значения их поведенческого кредитного скоринга (ks): zp = [35, 45, 190, 200, 40, 70, 54, 150, 120, 110], ks = [401, 574, 874, 919, 459, 739, 653, 902, 746, 832]. Найдите ковариацию этих двух величин с помощью элементарных действий, а затем с помощью функции cov из numpy Полученные значения должны быть равны. Найдите коэффициент корреляции Пирсона с помощью ковариации и среднеквадратичных отклонений двух признаков, а затем с использованием функций из библиотек numpy и pandas.**"
   ]
  },
  {
   "attachments": {},
   "cell_type": "markdown",
   "metadata": {},
   "source": [
    "Ковариация рассчитывается по формуле: $cov_{xy}=M(X \\cdot Y) - M(X) \\cdot M(Y)$, где M — математическое ожидание. $M(X \\cdot Y) = 81141.7; M(X) = 101.4; M(Y) = 709.9; cov_{xy} = 9157.84$.\n",
    "\n",
    "Коэффициент корелляции Пирсона рассчитывается по формуле $r_{xy} = \\frac {cov_{xy}} {{{\\sigma}_x} \\cdot {{\\sigma}_y}}$. Стандартное отклонение рассчитываем смещенным.\n",
    "\n",
    "$\\overline{x} = 101.4000; \\sigma_{x} = \\sqrt{\\frac{1}{n} \\cdot \\sum_{i = 1}^{n}\\left( x_{i} - \\overline{x} \\right)^{2}};\\sum_{i = 1}^{n}\\left( x_{i} - \\overline{x} \\right)^{2} = 34946.4000; \\Rightarrow \\sigma_{x} = \\sqrt{\\frac{34946.4000}{10}} \\approx 59.1155;$\n",
    "\n",
    "$\\overline{y} = 709.9000; \\sigma_{y} = \\sqrt{\\frac{1}{n} \\cdot \\sum_{i = 1}^{n}\\left( y_{i} - \\overline{y} \\right)^{2}};\\sum_{i = 1}^{n}\\left( y_{i} - \\overline{y} \\right)^{2} = 304688.9000\n",
    "; \\Rightarrow \\sigma_{y} = \\sqrt{\\frac{304688.9000}{10}} \\approx 174.5534;$\n",
    "\n",
    "$r_{xy} = \\frac {cov_{xy}} {{{\\sigma}_x} \\cdot {{\\sigma}_y}} =  \\frac {9157.84} {{59.1155} \\cdot {174.5534}}=0.8875$."
   ]
  },
  {
   "cell_type": "code",
   "execution_count": 2,
   "metadata": {},
   "outputs": [
    {
     "name": "stdout",
     "output_type": "stream",
     "text": [
      "Ковариация - 9157.84\n",
      "Коэффициент корелляции - 0.8875\n"
     ]
    }
   ],
   "source": [
    "x = np.array([35, 45, 190, 200, 40, 70, 54, 150, 120, 110])\n",
    "y = np.array([401, 574, 874, 919, 459, 739, 653, 902, 746, 832])\n",
    "\n",
    "cov_xy = np.cov(x, y, ddof=0)\n",
    "coef_cor = np.corrcoef(x, y)\n",
    "print (f'Ковариация - {cov_xy[0][1]}')\n",
    "print (f'Коэффициент корелляции - {round(coef_cor[0][1], 4)}')"
   ]
  },
  {
   "attachments": {},
   "cell_type": "markdown",
   "metadata": {},
   "source": [
    "*Ответ: $cov_{xy}=9157.84, r_{xy}=0.8875$*."
   ]
  },
  {
   "attachments": {},
   "cell_type": "markdown",
   "metadata": {},
   "source": [
    "# Задача 2\n",
    "**Измерены значения IQ выборки студентов, обучающихся в местных технических вузах: 131, 125, 115, 122, 131, 115, 107, 99, 125, 111. Известно, что в генеральной совокупности IQ распределен нормально. Найдите доверительный интервал для математического ожидания с надежностью 0.95.**"
   ]
  },
  {
   "attachments": {},
   "cell_type": "markdown",
   "metadata": {},
   "source": [
    "Средневадратичное отклонение генеральной выборки $ \\sigma $ неизвестно. Поэтому, доверительный интевал      оценивается с помощю критерия Стьюдента. В этом случае доверительный интервал определяется выражением $\\overline{X}\\pm t_ {\\frac{\\alpha}{2}} \\cdot {\\frac{\\sigma}{\\sqrt{n}}}$ , а $ \\sigma $ и $\\overline{X} $ рассчитвается для имеющейся выборки. Для рассчета $t_{\\frac{\\alpha}{2}}$ также воспользуемся функциями Python. Производим рассчет:"
   ]
  },
  {
   "cell_type": "code",
   "execution_count": 3,
   "metadata": {},
   "outputs": [
    {
     "name": "stdout",
     "output_type": "stream",
     "text": [
      "Ответ: Доверительный интервал - [110.55608365158724, 125.64391634841274]\n"
     ]
    }
   ],
   "source": [
    "x = [131, 125, 115, 122, 131, 115, 107, 99, 125, 111]\n",
    "n = len(x)  # Объем выборки\n",
    "k = n - 1   # Количество степеней свободы\n",
    "x_mean = np.mean(x)\n",
    "sigma = np.sqrt(np.var(x, ddof=1)) # Квадратный корень из несмещенной дисперсии.\n",
    "alpha = 1 - 0.95\n",
    "tscore = st.t.ppf(1 - alpha/2, k)\n",
    "delta = tscore * sigma / np.sqrt(n)\n",
    "print (f'Ответ: Доверительный интервал - [{x_mean - delta}, {x_mean + delta}]')"
   ]
  },
  {
   "attachments": {},
   "cell_type": "markdown",
   "metadata": {},
   "source": [
    "*Ответ: [110.5561, 125.6439]*."
   ]
  },
  {
   "attachments": {},
   "cell_type": "markdown",
   "metadata": {},
   "source": [
    "# Задача 3\n",
    "**Известно, что рост футболистов в сборной распределен нормально с дисперсией генеральной совокупности, равной 25 кв.см. Объем выборки равен 27, среднее выборочное составляет 174.2. Найдите доверительный интервал для математического ожидания с надежностью 0.95.**"
   ]
  },
  {
   "attachments": {},
   "cell_type": "markdown",
   "metadata": {},
   "source": [
    "Доверительный интервал определяется выражением $\\overline{X}\\pm Z_ {\\frac{\\alpha}{2}} \\cdot {\\frac{\\sigma}{\\sqrt{n}}}$ .\n",
    "\n",
    "Известно, что:\n",
    "* $\\overline{X} = 174.2 $ ;\n",
    "* $\\sigma = \\sqrt{25} = 5 $ ;\n",
    "* $\\alpha = 1 - 0.95 = 0.05$ ;\n",
    "* $\\frac{\\alpha} {2} = 0.025$ ; \n",
    "* $n = 27$ ;\n",
    "\n",
    "Найдем критическое значение Z, т. к. у нас известно значение $\\sigma$ и генеральная совокупность распределена нормально. Табличное значение $Z_{\\frac{\\alpha} {2} = 0.0250} \\approx 1.9600 $ , но можно воспользоваться функцией norm.ppf (Percent Point Function) библиотеки Python scipy.stats. Рассчитаем:"
   ]
  },
  {
   "cell_type": "code",
   "execution_count": 4,
   "metadata": {},
   "outputs": [
    {
     "name": "stdout",
     "output_type": "stream",
     "text": [
      "Ответ: Доверительный интервал - [172.3140237765397, 176.08597622346028]\n"
     ]
    }
   ],
   "source": [
    "x_mean = 174.2\n",
    "sigma = 5\n",
    "alpha = 1 - 0.95\n",
    "z_score = st.norm.ppf(1 - alpha/2)\n",
    "n = 27\n",
    "delta = z_score * sigma / np.sqrt(n)\n",
    "print (f'Ответ: Доверительный интервал - [{x_mean - delta}, {x_mean + delta}]')"
   ]
  },
  {
   "attachments": {},
   "cell_type": "markdown",
   "metadata": {},
   "source": [
    "*Ответ: [172.3140, 176.0860]*."
   ]
  }
 ],
 "metadata": {
  "kernelspec": {
   "display_name": "Python 3",
   "language": "python",
   "name": "python3"
  },
  "language_info": {
   "codemirror_mode": {
    "name": "ipython",
    "version": 3
   },
   "file_extension": ".py",
   "mimetype": "text/x-python",
   "name": "python",
   "nbconvert_exporter": "python",
   "pygments_lexer": "ipython3",
   "version": "3.9.16"
  },
  "orig_nbformat": 4
 },
 "nbformat": 4,
 "nbformat_minor": 2
}
